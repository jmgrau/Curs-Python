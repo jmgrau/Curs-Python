{
 "cells": [
  {
   "cell_type": "markdown",
   "id": "41bbcda9",
   "metadata": {},
   "source": [
    "# EXERCICIS MÒDUL 1"
   ]
  },
  {
   "cell_type": "markdown",
   "id": "71e22e74",
   "metadata": {},
   "source": []
  },
  {
   "cell_type": "markdown",
   "id": "a4c0db94",
   "metadata": {},
   "source": [
    "### 1) Començarem fent càlculs senzills: "
   ]
  },
  {
   "cell_type": "code",
   "execution_count": 1,
   "id": "19662037",
   "metadata": {},
   "outputs": [
    {
     "name": "stdout",
     "output_type": "stream",
     "text": [
      "Hola Món\n"
     ]
    }
   ],
   "source": [
    "print(\"Hola Món\")"
   ]
  },
  {
   "cell_type": "code",
   "execution_count": 3,
   "id": "06f0b552",
   "metadata": {},
   "outputs": [
    {
     "data": {
      "text/plain": [
       "4"
      ]
     },
     "execution_count": 3,
     "metadata": {},
     "output_type": "execute_result"
    }
   ],
   "source": [
    "a= 1\n",
    "b= 3\n",
    "c= a+b\n",
    "c"
   ]
  },
  {
   "cell_type": "markdown",
   "id": "98a8c1d4",
   "metadata": {},
   "source": [
    "Una estructura condicional bàsica a partir d´una variable booleana"
   ]
  },
  {
   "cell_type": "code",
   "execution_count": 4,
   "id": "343d9dd9",
   "metadata": {
    "scrolled": true
   },
   "outputs": [
    {
     "name": "stdout",
     "output_type": "stream",
     "text": [
      "a no és certa\n"
     ]
    }
   ],
   "source": [
    "a=False\n",
    "if not(a):\n",
    "    print(\"a no és certa\")"
   ]
  },
  {
   "cell_type": "code",
   "execution_count": null,
   "id": "2771288d",
   "metadata": {},
   "outputs": [],
   "source": []
  },
  {
   "cell_type": "markdown",
   "id": "16492c8d",
   "metadata": {},
   "source": [
    "### 2) Anem a practicar creant capçaleres:\n",
    "\n",
    "\n",
    "# Mida Gran\n",
    "\n",
    "## Mida més petita"
   ]
  },
  {
   "cell_type": "code",
   "execution_count": null,
   "id": "2a0da921",
   "metadata": {},
   "outputs": [],
   "source": []
  },
  {
   "cell_type": "markdown",
   "id": "8ba8b139",
   "metadata": {},
   "source": [
    "### 3) modifiquem els tipus de fonts: \n",
    "\n",
    "*Tipus 1*\n",
    "\n",
    "**Tipus 2**"
   ]
  },
  {
   "cell_type": "code",
   "execution_count": null,
   "id": "b2117cd3",
   "metadata": {},
   "outputs": [],
   "source": []
  },
  {
   "cell_type": "markdown",
   "id": "5a41c375",
   "metadata": {},
   "source": [
    "### 4) inserim un logo: \n",
    "![logo](Logo.jfif)\n",
    "    "
   ]
  },
  {
   "cell_type": "markdown",
   "id": "2567b798",
   "metadata": {},
   "source": [
    "### 5) Finalment, crearem una llista indexada:\n",
    "\n",
    "    1. Introducció\n",
    "        1.1 Objectius\n",
    "        1.2 Hipòtesi del Treball\n",
    "        1.3 Metodologia\n",
    "    2. Marc Teòric\n",
    "        2.1 Treballs relacionats\n",
    "        2.2 Estudi de les eines a emprar al Treball.\n",
    "    3. Anàlisi de Resultats\n",
    "    4. Conclusions i Línies de Futur\n",
    "    5. Bibliogradia"
   ]
  },
  {
   "cell_type": "code",
   "execution_count": null,
   "id": "9828f351",
   "metadata": {},
   "outputs": [],
   "source": []
  }
 ],
 "metadata": {
  "kernelspec": {
   "display_name": "Python 3 (ipykernel)",
   "language": "python",
   "name": "python3"
  },
  "language_info": {
   "codemirror_mode": {
    "name": "ipython",
    "version": 3
   },
   "file_extension": ".py",
   "mimetype": "text/x-python",
   "name": "python",
   "nbconvert_exporter": "python",
   "pygments_lexer": "ipython3",
   "version": "3.9.13"
  }
 },
 "nbformat": 4,
 "nbformat_minor": 5
}

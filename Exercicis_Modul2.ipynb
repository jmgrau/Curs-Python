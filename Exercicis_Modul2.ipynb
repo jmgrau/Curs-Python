{
 "cells": [
  {
   "cell_type": "markdown",
   "id": "751ac6a1",
   "metadata": {},
   "source": [
    "# EXERCICIS MÒDUL 2"
   ]
  },
  {
   "cell_type": "markdown",
   "id": "a1a6e0dc",
   "metadata": {},
   "source": [
    "## Primera Part"
   ]
  },
  {
   "cell_type": "markdown",
   "id": "d62d1a88",
   "metadata": {},
   "source": [
    "### Exercici 1 \n",
    "Crea una llista que agrupi els mesos de l’any en trimestres (1T: gener, febrer i març; 2T: abril, maig, juny...), és a dir, una llista amb 4 llistes dins."
   ]
  },
  {
   "cell_type": "code",
   "execution_count": 16,
   "id": "b74e6e57",
   "metadata": {
    "scrolled": true
   },
   "outputs": [
    {
     "data": {
      "text/plain": [
       "[['Gener', 'Febrer', 'Març'],\n",
       " ['Abril', 'Maig', 'Juny'],\n",
       " ['Juliol', 'Agost', 'Setembre'],\n",
       " ['Octubre', 'Novembre', 'Desembre']]"
      ]
     },
     "execution_count": 16,
     "metadata": {},
     "output_type": "execute_result"
    }
   ],
   "source": [
    "#Creem una llista per cada trimestre\n",
    "PrimerT=['Gener','Febrer','Març']\n",
    "SegonT=['Abril','Maig','Juny']\n",
    "TercerT=['Juliol','Agost','Setembre']\n",
    "QuartT=['Octubre','Novembre','Desembre']\n",
    "\n",
    "#Creem la llista de llistes\n",
    "llista=[PrimerT,SegonT,TercerT,QuartT]\n",
    "\n",
    "#Comprovem que s'ha creat correctament\n",
    "llista"
   ]
  },
  {
   "cell_type": "code",
   "execution_count": null,
   "id": "4ae4df70",
   "metadata": {},
   "outputs": [],
   "source": []
  },
  {
   "cell_type": "markdown",
   "id": "4bdc5ccd",
   "metadata": {},
   "source": [
    "### Exercici 2\n",
    "Crea un codi que et permeti accedir a: \n",
    "\n",
    "El segon mes del primer trimestre.Els mesos del primer trimestre.\n",
    "Setembre i octubre."
   ]
  },
  {
   "cell_type": "code",
   "execution_count": 28,
   "id": "5f322bf5",
   "metadata": {},
   "outputs": [
    {
     "data": {
      "text/plain": [
       "['Gener', 'Febrer', 'Març']"
      ]
     },
     "execution_count": 28,
     "metadata": {},
     "output_type": "execute_result"
    }
   ],
   "source": [
    "#Accedim als mesos del primer trimestre: \n",
    "llista[0]"
   ]
  },
  {
   "cell_type": "code",
   "execution_count": 29,
   "id": "bd56265b",
   "metadata": {},
   "outputs": [
    {
     "data": {
      "text/plain": [
       "'Febrer'"
      ]
     },
     "execution_count": 29,
     "metadata": {},
     "output_type": "execute_result"
    }
   ],
   "source": [
    "#Accedim al segon mes del primer trimestre:\n",
    "llista[0][1]"
   ]
  },
  {
   "cell_type": "code",
   "execution_count": 30,
   "id": "187993a8",
   "metadata": {},
   "outputs": [
    {
     "data": {
      "text/plain": [
       "'Setembre'"
      ]
     },
     "execution_count": 30,
     "metadata": {},
     "output_type": "execute_result"
    }
   ],
   "source": [
    "\n",
    "llista[2][2]"
   ]
  },
  {
   "cell_type": "code",
   "execution_count": 31,
   "id": "87ec9db1",
   "metadata": {},
   "outputs": [
    {
     "data": {
      "text/plain": [
       "'Octubre'"
      ]
     },
     "execution_count": 31,
     "metadata": {},
     "output_type": "execute_result"
    }
   ],
   "source": [
    "#Accedim al mes de setembre: i octubre:\n",
    "llista[3][0]"
   ]
  },
  {
   "cell_type": "code",
   "execution_count": 33,
   "id": "c0de3504",
   "metadata": {},
   "outputs": [
    {
     "data": {
      "text/plain": [
       "['Octubre', 'Novembre']"
      ]
     },
     "execution_count": 33,
     "metadata": {},
     "output_type": "execute_result"
    }
   ],
   "source": [
    "#Acabem l'exercici accedint a dos mesos de la mateixa llista:\n",
    "llista[3][:2]"
   ]
  },
  {
   "cell_type": "code",
   "execution_count": null,
   "id": "9636b533",
   "metadata": {},
   "outputs": [],
   "source": []
  },
  {
   "cell_type": "markdown",
   "id": "9ac462a6",
   "metadata": {},
   "source": [
    "### Exercici 3\n",
    "Crea una llista amb nombres desordenats i respon a les següents preguntes: \n",
    "\n",
    "Quants números hi ha?\n",
    "Quantes vegades apareix el número 3.\n",
    "Quantes vegades apareixen els nombres 3 i 4?\n",
    "Quin és el número més gran?\n",
    "Quins són els 3 números més petits?\n",
    "Quin és el rang d’aquesta llista?"
   ]
  },
  {
   "cell_type": "code",
   "execution_count": 75,
   "id": "42d14f41",
   "metadata": {},
   "outputs": [],
   "source": [
    "#Creem la llista desordenada emprant la funció random\n",
    "import random\n",
    "\n",
    "llista_desordenada = [random.randint(0, 10) for x in range(10)]"
   ]
  },
  {
   "cell_type": "code",
   "execution_count": 76,
   "id": "fec82def",
   "metadata": {},
   "outputs": [
    {
     "data": {
      "text/plain": [
       "[0, 7, 5, 2, 9, 7, 8, 7, 0, 10]"
      ]
     },
     "execution_count": 76,
     "metadata": {},
     "output_type": "execute_result"
    }
   ],
   "source": [
    "llista_desordenada"
   ]
  },
  {
   "cell_type": "code",
   "execution_count": 77,
   "id": "2e365be7",
   "metadata": {},
   "outputs": [
    {
     "name": "stdout",
     "output_type": "stream",
     "text": [
      "La quantitat de nombres que conté la llista és: 10\n"
     ]
    }
   ],
   "source": [
    "#Per saber el nombre de números que conté la llista, tot i que l'hem creada nosaltres, ho podem obtenir amb la seva longitud:\n",
    "llargada = len(llista_desordenada)\n",
    "print(\"La quantitat de nombres que conté la llista és:\",llargada)"
   ]
  },
  {
   "cell_type": "code",
   "execution_count": 78,
   "id": "d0dbd5e3",
   "metadata": {},
   "outputs": [
    {
     "name": "stdout",
     "output_type": "stream",
     "text": [
      "El número 3 apareix el següent nombre de cops: 0\n"
     ]
    }
   ],
   "source": [
    "#Per saber la quantitat de cops que apareix el número 3: \n",
    "print(\"El número 3 apareix el següent nombre de cops:\",llista_desordenada.count(3))"
   ]
  },
  {
   "cell_type": "code",
   "execution_count": 79,
   "id": "3f175d10",
   "metadata": {},
   "outputs": [
    {
     "name": "stdout",
     "output_type": "stream",
     "text": [
      "El número 3 apareix el següent nombre de cops: 0\n"
     ]
    }
   ],
   "source": [
    "#Per saber la quantitat de cops que apareix el número 4: \n",
    "print(\"El número 3 apareix el següent nombre de cops:\",llista_desordenada.count(4))"
   ]
  },
  {
   "cell_type": "code",
   "execution_count": 80,
   "id": "d3d2538a",
   "metadata": {},
   "outputs": [
    {
     "name": "stdout",
     "output_type": "stream",
     "text": [
      "El número més gran de la llista és el número 10\n"
     ]
    }
   ],
   "source": [
    "#Per saber quin és el número més gran: \n",
    "print(\"El número més gran de la llista és el número\",max(llista_desordenada))"
   ]
  },
  {
   "cell_type": "code",
   "execution_count": 81,
   "id": "70825e6a",
   "metadata": {},
   "outputs": [
    {
     "name": "stdout",
     "output_type": "stream",
     "text": [
      "Els tres nombres més petits de la llista són: [0, 0, 2]\n"
     ]
    }
   ],
   "source": [
    "#Per saber la quantitat de cops que apareix el número 3: \n",
    "#print(\"El número 3 apareix el següent nombre de cops:\",llista_desordenada.count(3))\n",
    "llista_desc=llista_desordenada\n",
    "llista_desc.sort(reverse=False)\n",
    "print(\"Els tres nombres més petits de la llista són:\",llista_desc[:3])"
   ]
  },
  {
   "cell_type": "code",
   "execution_count": 82,
   "id": "df19edb3",
   "metadata": {},
   "outputs": [
    {
     "name": "stdout",
     "output_type": "stream",
     "text": [
      "el rang de la llista és: 10\n"
     ]
    }
   ],
   "source": [
    "#Per saber el rang agafem el valor més gran i el més petit i els restem: \n",
    "rang = max(llista_desordenada)-min(llista_desordenada)\n",
    "print(\"el rang de la llista és:\",rang)"
   ]
  },
  {
   "cell_type": "code",
   "execution_count": null,
   "id": "2ac5e8e7",
   "metadata": {},
   "outputs": [],
   "source": []
  },
  {
   "cell_type": "markdown",
   "id": "c31e4907",
   "metadata": {},
   "source": [
    "### Exercici 4\n",
    "Crea un diccionari de la següent forma i respon a les preguntes:\n",
    "compra = { \"Pomes\" : {\"Qty\": 5, \"€\": 0.42}, \"Peres\" : {\"Qty\": 3, \"€\": 0.66} } \n",
    "\n",
    "Afegeix alguna fruita més.\n",
    "Quant han costat les peres en total? \n",
    "Quantes fruites hem comprat en total? \n",
    "Quina és la fruita més cara? "
   ]
  },
  {
   "cell_type": "code",
   "execution_count": 83,
   "id": "97543025",
   "metadata": {},
   "outputs": [],
   "source": [
    "#Creem el diccionari\n",
    "compra = {'Pomes': {'Qty':5,'€':0.42}, 'Peres': {'Qty': 3,'€':0.66}}"
   ]
  },
  {
   "cell_type": "code",
   "execution_count": 84,
   "id": "845ca607",
   "metadata": {},
   "outputs": [
    {
     "data": {
      "text/plain": [
       "{'Pomes': {'Qty': 5, '€': 0.42},\n",
       " 'Peres': {'Qty': 3, '€': 0.66},\n",
       " 'Bananes': {'Qty': 4, '€': 1.25}}"
      ]
     },
     "execution_count": 84,
     "metadata": {},
     "output_type": "execute_result"
    }
   ],
   "source": [
    "#Afegim una fruita més:\n",
    "compra['Bananes']={'Qty':4, '€': 1.25}\n",
    "compra"
   ]
  },
  {
   "cell_type": "code",
   "execution_count": 85,
   "id": "75121daf",
   "metadata": {},
   "outputs": [
    {
     "name": "stdout",
     "output_type": "stream",
     "text": [
      "El cost total en euros de les peres és de: 1.98\n"
     ]
    }
   ],
   "source": [
    "print(\"El cost total en euros de les peres és de:\", compra['Peres']['Qty']*compra['Peres']['€'])"
   ]
  },
  {
   "cell_type": "code",
   "execution_count": 89,
   "id": "4a681ded",
   "metadata": {},
   "outputs": [
    {
     "name": "stdout",
     "output_type": "stream",
     "text": [
      "La quantitat total de fruites que hem comprat és de: 12\n"
     ]
    }
   ],
   "source": [
    "#Calculem la quantitat total de fruites que hem comprat\n",
    "total_fruita=0\n",
    "for x in compra:\n",
    "    total_fruita = total_fruita + compra[x]['Qty']\n",
    "print(\"La quantitat total de fruites que hem comprat és de:\",total_fruita) "
   ]
  },
  {
   "cell_type": "code",
   "execution_count": 91,
   "id": "cfcbe9f7",
   "metadata": {},
   "outputs": [
    {
     "name": "stdout",
     "output_type": "stream",
     "text": [
      "La fruita més cara és: Pomes\n"
     ]
    }
   ],
   "source": [
    "#Per saber la fruita més cara, accedim a la llista de keys, i calculem el valor màxim\n",
    "mes_cara=max(compra.keys())\n",
    "print(\"La fruita més cara és:\",mes_cara) "
   ]
  },
  {
   "cell_type": "code",
   "execution_count": null,
   "id": "7f8fd7f7",
   "metadata": {},
   "outputs": [],
   "source": []
  },
  {
   "cell_type": "markdown",
   "id": "85680fd6",
   "metadata": {},
   "source": [
    "## Segona Part : Exercicis d'estructures de control amb Python. "
   ]
  },
  {
   "cell_type": "markdown",
   "id": "1939c5d8",
   "metadata": {},
   "source": [
    "### Exercici 1 \n",
    "L'exercici consisteix a crear una funció que et classifiqui una variable numèrica en funció de l’escala Suspès/Aprovat/Notable/Excel·lent. \n",
    "\n",
    "Recorda que Suspès < 5, Aprovat > 5 i < 7, Notable > 7 i < 9 i Excel·lent > 9. "
   ]
  },
  {
   "cell_type": "code",
   "execution_count": 102,
   "id": "1e595c18",
   "metadata": {},
   "outputs": [],
   "source": [
    "def dona_nota(nota):\n",
    "  if nota<5:\n",
    "    print(\"Suspès\")\n",
    "  elif nota<7:\n",
    "    print(\"Aprovat\")\n",
    "  elif nota<9:\n",
    "    print(\"Notable\")\n",
    "  else:\n",
    "    print(\"Excel·lent\")"
   ]
  },
  {
   "cell_type": "code",
   "execution_count": 104,
   "id": "94743ade",
   "metadata": {},
   "outputs": [
    {
     "name": "stdout",
     "output_type": "stream",
     "text": [
      "Suspès\n",
      "Aprovat\n",
      "Aprovat\n",
      "Notable\n",
      "Excel·lent\n"
     ]
    }
   ],
   "source": [
    "#Provem la funció\n",
    "dona_nota(4)\n",
    "dona_nota(5.1)\n",
    "dona_nota(6)\n",
    "dona_nota(8)\n",
    "dona_nota(10)"
   ]
  },
  {
   "cell_type": "code",
   "execution_count": null,
   "id": "8a508b6d",
   "metadata": {},
   "outputs": [],
   "source": []
  },
  {
   "cell_type": "markdown",
   "id": "a72b48b5",
   "metadata": {},
   "source": [
    "### Exercici 2\n",
    "Utilitzant el següent tutorial crea una funció que et pregunti dos números. T’ha de mostrar un missatge dient si el primer és més gran, el segon és més gran o són iguals. \n",
    "\n"
   ]
  },
  {
   "cell_type": "code",
   "execution_count": 140,
   "id": "7038a496",
   "metadata": {},
   "outputs": [],
   "source": [
    "def pregunta_nombres():\n",
    "    num1 = int(input('Introdueix el primer nombre: '))\n",
    "    num2 = int(input('Introdueix el segon nombre: '))\n",
    "\n",
    "    if num1>num2:\n",
    "        print('El primer nombre:',num1,',és major que el segon:',num2)\n",
    "    elif num1<num2:\n",
    "        print('El segon nombre:',num2,',és major que el primer:',num1)\n",
    "    else:\n",
    "        print('Els dos nombres són iguals')"
   ]
  },
  {
   "cell_type": "code",
   "execution_count": 141,
   "id": "3d8d002b",
   "metadata": {},
   "outputs": [
    {
     "name": "stdout",
     "output_type": "stream",
     "text": [
      "Introdueix el primer nombre: 199\n",
      "Introdueix el segon nombre: 200\n",
      "El segon nombre: 200 ,és major que el primer: 199\n"
     ]
    }
   ],
   "source": [
    "#Executem la funció:\n",
    "pregunta_nombres()"
   ]
  },
  {
   "cell_type": "code",
   "execution_count": null,
   "id": "99413798",
   "metadata": {},
   "outputs": [],
   "source": []
  },
  {
   "cell_type": "markdown",
   "id": "83f43b78",
   "metadata": {},
   "source": [
    "### Exercici 3\n",
    "Crea una funció que et pregunti el teu nom, i et demani un número. Si el número és 0, hauria de mostrar un missatge d’error. En cas contrari, hauria de mostrar el nom repetit tants cops com indiqui el número. Per exemple, “Joan Joan Joan”. \n"
   ]
  },
  {
   "cell_type": "code",
   "execution_count": 151,
   "id": "63c2a5c0",
   "metadata": {},
   "outputs": [],
   "source": [
    "def pregunta_dades():\n",
    "    nom = input('Introdueix el teu nom: ')\n",
    "    num = int(input('Introdueix un número: '))\n",
    "\n",
    "    if num==0:\n",
    "        print('El nombre introduït no és vàlid. Torna a executar la funció')\n",
    "    else:\n",
    "        for x in range(num):\n",
    "            print(nom)\n",
    "    "
   ]
  },
  {
   "cell_type": "code",
   "execution_count": 152,
   "id": "6d229cf2",
   "metadata": {},
   "outputs": [
    {
     "name": "stdout",
     "output_type": "stream",
     "text": [
      "Introdueix el teu nom: Josep Maria\n",
      "Introdueix un número: 5\n",
      "Josep Maria\n",
      "Josep Maria\n",
      "Josep Maria\n",
      "Josep Maria\n",
      "Josep Maria\n"
     ]
    }
   ],
   "source": [
    "pregunta_dades()"
   ]
  },
  {
   "cell_type": "code",
   "execution_count": null,
   "id": "a410f943",
   "metadata": {},
   "outputs": [],
   "source": []
  },
  {
   "cell_type": "markdown",
   "id": "0c5a4c6d",
   "metadata": {},
   "source": [
    "### Exercici 4\n",
    "Crea una funció que donada una llista qualsevol, et digui si és simètrica o no. Si ho és, que et digui quants elements té.\n"
   ]
  },
  {
   "cell_type": "code",
   "execution_count": 197,
   "id": "d89ea453",
   "metadata": {},
   "outputs": [],
   "source": [
    "def simetria(llista):\n",
    "    #Calculo l'element central de la llista.\n",
    "    punt_mig=int((len(llista)+1)/2)\n",
    "    #Creo dos llistes buides que contindran els elements de l'inici fins abans del punt central, i del final fins l'element \n",
    "    #posterior al punt central\n",
    "    llista1=[]\n",
    "    llista2=[]\n",
    "    for x in range(punt_mig-1):\n",
    "        llista1.append(llista[x])\n",
    "        llista2.append(llista[-(x+1)])\n",
    "    if set(llista1) == set(llista2):\n",
    "        print(\"La llista és simètrica i té\",len(llista),\"elements\")\n",
    "    else:\n",
    "        print(\"La llista no és simètrica\")\n",
    "        "
   ]
  },
  {
   "cell_type": "code",
   "execution_count": 196,
   "id": "23ea0dd3",
   "metadata": {
    "scrolled": true
   },
   "outputs": [
    {
     "name": "stdout",
     "output_type": "stream",
     "text": [
      "3\n",
      "[1, 3]\n",
      "[1, 3]\n",
      "La llista és simètrica i té 5 elements\n"
     ]
    }
   ],
   "source": [
    "#Creo una llista numèrica qualsevol i faig la crida a la funció\n",
    "list=[1,3,2,3,1]\n",
    "simetria(list)"
   ]
  },
  {
   "cell_type": "code",
   "execution_count": null,
   "id": "849de2ba",
   "metadata": {},
   "outputs": [],
   "source": []
  },
  {
   "cell_type": "markdown",
   "id": "ed588b1f",
   "metadata": {},
   "source": [
    "### Exercici 5\n",
    "Crea una funció que donada una llista, et digui quants números coincideixen amb la seva posició. Per exemple [3,4,2,0,2,3,6] el 2 i el 6 coincideixen."
   ]
  },
  {
   "cell_type": "code",
   "execution_count": 227,
   "id": "b64eaa1f",
   "metadata": {},
   "outputs": [],
   "source": [
    "def coincident(llista):\n",
    "    coincidents=0\n",
    "    resultat=0\n",
    "    for x in llista:\n",
    "        if coincidents == x:\n",
    "            print('La posició',coincidents,'coincideix amb el seu contingut')\n",
    "            resultat=resultat+1\n",
    "        coincidents=coincidents+1\n",
    "    print('La quantitat de números que coincideixen amb la seva posició és:',resultat)"
   ]
  },
  {
   "cell_type": "code",
   "execution_count": 228,
   "id": "d7b107ca",
   "metadata": {},
   "outputs": [
    {
     "name": "stdout",
     "output_type": "stream",
     "text": [
      "La posició 0 coincideix amb el seu contingut\n",
      "La posició 1 coincideix amb el seu contingut\n",
      "La posició 2 coincideix amb el seu contingut\n",
      "La posició 6 coincideix amb el seu contingut\n",
      "La quantitat de números que coincideixen amb la seva posició és: 4\n"
     ]
    }
   ],
   "source": [
    "list=[0,1,2,4,5,7,6,8,9,10]\n",
    "coincident(list)"
   ]
  },
  {
   "cell_type": "code",
   "execution_count": null,
   "id": "7badb3c5",
   "metadata": {},
   "outputs": [],
   "source": []
  }
 ],
 "metadata": {
  "kernelspec": {
   "display_name": "Python 3 (ipykernel)",
   "language": "python",
   "name": "python3"
  },
  "language_info": {
   "codemirror_mode": {
    "name": "ipython",
    "version": 3
   },
   "file_extension": ".py",
   "mimetype": "text/x-python",
   "name": "python",
   "nbconvert_exporter": "python",
   "pygments_lexer": "ipython3",
   "version": "3.9.13"
  }
 },
 "nbformat": 4,
 "nbformat_minor": 5
}
